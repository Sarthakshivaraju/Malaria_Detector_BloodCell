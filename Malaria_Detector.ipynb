{
 "cells": [
  {
   "cell_type": "code",
   "execution_count": 237,
   "metadata": {},
   "outputs": [],
   "source": [
    "import os"
   ]
  },
  {
   "cell_type": "code",
   "execution_count": 238,
   "metadata": {},
   "outputs": [],
   "source": [
    "data_dir='/home/ubuntu/Documents/CNNPRO/cell_images'"
   ]
  },
  {
   "cell_type": "code",
   "execution_count": 239,
   "metadata": {},
   "outputs": [
    {
     "data": {
      "text/plain": [
       "['train', 'test']"
      ]
     },
     "execution_count": 239,
     "metadata": {},
     "output_type": "execute_result"
    }
   ],
   "source": [
    "os.listdir(data_dir)"
   ]
  },
  {
   "cell_type": "code",
   "execution_count": 240,
   "metadata": {},
   "outputs": [],
   "source": [
    "import pandas as pd\n",
    "import numpy as np\n",
    "import seaborn as sns\n",
    "import matplotlib.pyplot as plt"
   ]
  },
  {
   "cell_type": "code",
   "execution_count": 241,
   "metadata": {},
   "outputs": [],
   "source": [
    "from matplotlib.image import imread"
   ]
  },
  {
   "cell_type": "code",
   "execution_count": 242,
   "metadata": {},
   "outputs": [],
   "source": [
    "test_path=data_dir+'/test/'\n",
    "train_path=data_dir+'/train/'"
   ]
  },
  {
   "cell_type": "code",
   "execution_count": 243,
   "metadata": {},
   "outputs": [
    {
     "data": {
      "text/plain": [
       "'/home/ubuntu/Documents/CNNPRO/cell_images/test/'"
      ]
     },
     "execution_count": 243,
     "metadata": {},
     "output_type": "execute_result"
    }
   ],
   "source": [
    "test_path"
   ]
  },
  {
   "cell_type": "code",
   "execution_count": 244,
   "metadata": {},
   "outputs": [
    {
     "data": {
      "text/plain": [
       "['uninfected', 'parasitized']"
      ]
     },
     "execution_count": 244,
     "metadata": {},
     "output_type": "execute_result"
    }
   ],
   "source": [
    "os.listdir(test_path)"
   ]
  },
  {
   "cell_type": "code",
   "execution_count": 245,
   "metadata": {},
   "outputs": [
    {
     "data": {
      "text/plain": [
       "['uninfected', 'parasitized']"
      ]
     },
     "execution_count": 245,
     "metadata": {},
     "output_type": "execute_result"
    }
   ],
   "source": [
    "os.listdir(test_path)"
   ]
  },
  {
   "cell_type": "code",
   "execution_count": 310,
   "metadata": {},
   "outputs": [
    {
     "data": {
      "text/plain": [
       "'C146P107ThinF_IMG_20151018_134554_cell_254.png'"
      ]
     },
     "execution_count": 310,
     "metadata": {},
     "output_type": "execute_result"
    }
   ],
   "source": [
    "os.listdir(train_path+'parasitized')[0]"
   ]
  },
  {
   "cell_type": "code",
   "execution_count": 247,
   "metadata": {},
   "outputs": [],
   "source": [
    "para_cell=train_path+'parasitized/'+'C146P107ThinF_IMG_20151018_134554_cell_254.png'"
   ]
  },
  {
   "cell_type": "code",
   "execution_count": 248,
   "metadata": {},
   "outputs": [
    {
     "data": {
      "text/plain": [
       "'/home/ubuntu/Documents/CNNPRO/cell_images/train/parasitized/C146P107ThinF_IMG_20151018_134554_cell_254.png'"
      ]
     },
     "execution_count": 248,
     "metadata": {},
     "output_type": "execute_result"
    }
   ],
   "source": [
    "para_cell"
   ]
  },
  {
   "cell_type": "code",
   "execution_count": 249,
   "metadata": {},
   "outputs": [
    {
     "data": {
      "text/plain": [
       "array([[[0., 0., 0.],\n",
       "        [0., 0., 0.],\n",
       "        [0., 0., 0.],\n",
       "        ...,\n",
       "        [0., 0., 0.],\n",
       "        [0., 0., 0.],\n",
       "        [0., 0., 0.]],\n",
       "\n",
       "       [[0., 0., 0.],\n",
       "        [0., 0., 0.],\n",
       "        [0., 0., 0.],\n",
       "        ...,\n",
       "        [0., 0., 0.],\n",
       "        [0., 0., 0.],\n",
       "        [0., 0., 0.]],\n",
       "\n",
       "       [[0., 0., 0.],\n",
       "        [0., 0., 0.],\n",
       "        [0., 0., 0.],\n",
       "        ...,\n",
       "        [0., 0., 0.],\n",
       "        [0., 0., 0.],\n",
       "        [0., 0., 0.]],\n",
       "\n",
       "       ...,\n",
       "\n",
       "       [[0., 0., 0.],\n",
       "        [0., 0., 0.],\n",
       "        [0., 0., 0.],\n",
       "        ...,\n",
       "        [0., 0., 0.],\n",
       "        [0., 0., 0.],\n",
       "        [0., 0., 0.]],\n",
       "\n",
       "       [[0., 0., 0.],\n",
       "        [0., 0., 0.],\n",
       "        [0., 0., 0.],\n",
       "        ...,\n",
       "        [0., 0., 0.],\n",
       "        [0., 0., 0.],\n",
       "        [0., 0., 0.]],\n",
       "\n",
       "       [[0., 0., 0.],\n",
       "        [0., 0., 0.],\n",
       "        [0., 0., 0.],\n",
       "        ...,\n",
       "        [0., 0., 0.],\n",
       "        [0., 0., 0.],\n",
       "        [0., 0., 0.]]], dtype=float32)"
      ]
     },
     "execution_count": 249,
     "metadata": {},
     "output_type": "execute_result"
    }
   ],
   "source": [
    "imread(para_cell)"
   ]
  },
  {
   "cell_type": "code",
   "execution_count": 250,
   "metadata": {},
   "outputs": [
    {
     "data": {
      "text/plain": [
       "(124, 121, 3)"
      ]
     },
     "execution_count": 250,
     "metadata": {},
     "output_type": "execute_result"
    }
   ],
   "source": [
    "imread(para_cell).shape"
   ]
  },
  {
   "cell_type": "code",
   "execution_count": 251,
   "metadata": {},
   "outputs": [
    {
     "data": {
      "text/plain": [
       "<matplotlib.image.AxesImage at 0x7fe8b0771e90>"
      ]
     },
     "execution_count": 251,
     "metadata": {},
     "output_type": "execute_result"
    },
    {
     "data": {
      "image/png": "[encoded data removed]",
      "text/plain": [
       "<Figure size 432x288 with 1 Axes>"
      ]
     },
     "metadata": {
      "needs_background": "light"
     },
     "output_type": "display_data"
    }
   ],
   "source": [
    "plt.imshow(imread(para_cell))"
   ]
  },
  {
   "cell_type": "code",
   "execution_count": 252,
   "metadata": {},
   "outputs": [
    {
     "data": {
      "text/plain": [
       "'C234ThinF_IMG_20151112_162909_cell_7.png'"
      ]
     },
     "execution_count": 252,
     "metadata": {},
     "output_type": "execute_result"
    }
   ],
   "source": [
    "os.listdir(train_path+'uninfected')[0]"
   ]
  },
  {
   "cell_type": "code",
   "execution_count": 314,
   "metadata": {},
   "outputs": [],
   "source": [
    "uninfected_cell=train_path+'uninfected/'+'C234ThinF_IMG_20151112_162909_cell_7.png'"
   ]
  },
  {
   "cell_type": "code",
   "execution_count": 315,
   "metadata": {},
   "outputs": [],
   "source": [
    "uninfected1_cell=imread(uninfected_cell)"
   ]
  },
  {
   "cell_type": "code",
   "execution_count": 316,
   "metadata": {},
   "outputs": [
    {
     "data": {
      "text/plain": [
       "<matplotlib.image.AxesImage at 0x7fe8817d4390>"
      ]
     },
     "execution_count": 316,
     "metadata": {},
     "output_type": "execute_result"
    },
    {
     "data": {
      "image/png": "[encoded data removed]",
      "text/plain": [
       "<Figure size 432x288 with 1 Axes>"
      ]
     },
     "metadata": {
      "needs_background": "light"
     },
     "output_type": "display_data"
    }
   ],
   "source": [
    "plt.imshow(uninfected1_cell)"
   ]
  },
  {
   "cell_type": "code",
   "execution_count": 256,
   "metadata": {},
   "outputs": [
    {
     "data": {
      "text/plain": [
       "12480"
      ]
     },
     "execution_count": 256,
     "metadata": {},
     "output_type": "execute_result"
    }
   ],
   "source": [
    "len(os.listdir(train_path+'parasitized'))"
   ]
  },
  {
   "cell_type": "code",
   "execution_count": 257,
   "metadata": {},
   "outputs": [
    {
     "data": {
      "text/plain": [
       "12480"
      ]
     },
     "execution_count": 257,
     "metadata": {},
     "output_type": "execute_result"
    }
   ],
   "source": [
    "len(os.listdir(train_path+'uninfected'))"
   ]
  },
  {
   "cell_type": "code",
   "execution_count": 258,
   "metadata": {},
   "outputs": [
    {
     "data": {
      "text/plain": [
       "1300"
      ]
     },
     "execution_count": 258,
     "metadata": {},
     "output_type": "execute_result"
    }
   ],
   "source": [
    "len(os.listdir(test_path+'parasitized'))"
   ]
  },
  {
   "cell_type": "code",
   "execution_count": 259,
   "metadata": {},
   "outputs": [
    {
     "data": {
      "text/plain": [
       "1300"
      ]
     },
     "execution_count": 259,
     "metadata": {},
     "output_type": "execute_result"
    }
   ],
   "source": [
    "len(os.listdir(test_path+'uninfected'))"
   ]
  },
  {
   "cell_type": "code",
   "execution_count": 260,
   "metadata": {},
   "outputs": [],
   "source": [
    "dim1=[]\n",
    "dim2=[]\n",
    "for image_filename in os.listdir(test_path+'uninfected'):\n",
    "    img=imread(test_path+'uninfected/'+image_filename)\n",
    "    d1,d2,colors=img.shape\n",
    "    dim1.append(d1)\n",
    "    dim2.append(d2)"
   ]
  },
  {
   "cell_type": "code",
   "execution_count": 261,
   "metadata": {},
   "outputs": [
    {
     "data": {
      "text/plain": [
       "[115,\n",
       " 118,\n",
       " 130,\n",
       " 142,\n",
       " 124,\n",
       " 160,\n",
       " 100,\n",
       " 100,\n",
       " 115,\n",
       " 106,\n",
       " 127,\n",
       " 190,\n",
       " 154,\n",
       " 130,\n",
       " 100,\n",
       " 124,\n",
       " 121,\n",
       " 121,\n",
       " 112,\n",
       " 118,\n",
       " 130,\n",
       " 127,\n",
       " 157,\n",
       " 112,\n",
       " 121,\n",
       " 130,\n",
       " 118,\n",
       " 136,\n",
       " 109,\n",
       " 163,\n",
       " 130,\n",
       " 115,\n",
       " 148,\n",
       " 133,\n",
       " 127,\n",
       " 103,\n",
       " 121,\n",
       " 130,\n",
       " 136,\n",
       " 145,\n",
       " 112,\n",
       " 130,\n",
       " 151,\n",
       " 121,\n",
       " 130,\n",
       " 133,\n",
       " 151,\n",
       " 145,\n",
       " 142,\n",
       " 112,\n",
       " 118,\n",
       " 133,\n",
       " 157,\n",
       " 127,\n",
       " 115,\n",
       " 130,\n",
       " 133,\n",
       " 97,\n",
       " 136,\n",
       " 148,\n",
       " 148,\n",
       " 109,\n",
       " 121,\n",
       " 124,\n",
       " 118,\n",
       " 121,\n",
       " 148,\n",
       " 118,\n",
       " 133,\n",
       " 145,\n",
       " 115,\n",
       " 145,\n",
       " 142,\n",
       " 112,\n",
       " 142,\n",
       " 139,\n",
       " 127,\n",
       " 124,\n",
       " 130,\n",
       " 127,\n",
       " 157,\n",
       " 124,\n",
       " 157,\n",
       " 136,\n",
       " 130,\n",
       " 136,\n",
       " 160,\n",
       " 139,\n",
       " 136,\n",
       " 118,\n",
       " 139,\n",
       " 94,\n",
       " 133,\n",
       " 145,\n",
       " 130,\n",
       " 139,\n",
       " 136,\n",
       " 211,\n",
       " 124,\n",
       " 136,\n",
       " 139,\n",
       " 103,\n",
       " 169,\n",
       " 142,\n",
       " 121,\n",
       " 145,\n",
       " 145,\n",
       " 139,\n",
       " 121,\n",
       " 121,\n",
       " 139,\n",
       " 163,\n",
       " 148,\n",
       " 115,\n",
       " 139,\n",
       " 199,\n",
       " 118,\n",
       " 118,\n",
       " 130,\n",
       " 121,\n",
       " 127,\n",
       " 196,\n",
       " 133,\n",
       " 127,\n",
       " 100,\n",
       " 109,\n",
       " 133,\n",
       " 148,\n",
       " 124,\n",
       " 130,\n",
       " 157,\n",
       " 130,\n",
       " 124,\n",
       " 118,\n",
       " 118,\n",
       " 151,\n",
       " 121,\n",
       " 130,\n",
       " 106,\n",
       " 133,\n",
       " 112,\n",
       " 118,\n",
       " 157,\n",
       " 121,\n",
       " 127,\n",
       " 166,\n",
       " 127,\n",
       " 115,\n",
       " 133,\n",
       " 139,\n",
       " 124,\n",
       " 121,\n",
       " 124,\n",
       " 127,\n",
       " 139,\n",
       " 133,\n",
       " 127,\n",
       " 175,\n",
       " 118,\n",
       " 133,\n",
       " 127,\n",
       " 142,\n",
       " 118,\n",
       " 187,\n",
       " 118,\n",
       " 115,\n",
       " 118,\n",
       " 154,\n",
       " 145,\n",
       " 139,\n",
       " 139,\n",
       " 127,\n",
       " 130,\n",
       " 106,\n",
       " 151,\n",
       " 109,\n",
       " 121,\n",
       " 124,\n",
       " 142,\n",
       " 133,\n",
       " 142,\n",
       " 151,\n",
       " 163,\n",
       " 154,\n",
       " 157,\n",
       " 154,\n",
       " 145,\n",
       " 124,\n",
       " 133,\n",
       " 109,\n",
       " 109,\n",
       " 145,\n",
       " 121,\n",
       " 124,\n",
       " 109,\n",
       " 169,\n",
       " 58,\n",
       " 145,\n",
       " 127,\n",
       " 124,\n",
       " 130,\n",
       " 133,\n",
       " 142,\n",
       " 115,\n",
       " 127,\n",
       " 133,\n",
       " 127,\n",
       " 136,\n",
       " 130,\n",
       " 130,\n",
       " 127,\n",
       " 133,\n",
       " 133,\n",
       " 118,\n",
       " 136,\n",
       " 130,\n",
       " 106,\n",
       " 127,\n",
       " 175,\n",
       " 139,\n",
       " 154,\n",
       " 118,\n",
       " 127,\n",
       " 142,\n",
       " 139,\n",
       " 136,\n",
       " 145,\n",
       " 145,\n",
       " 139,\n",
       " 142,\n",
       " 106,\n",
       " 94,\n",
       " 124,\n",
       " 121,\n",
       " 121,\n",
       " 142,\n",
       " 124,\n",
       " 127,\n",
       " 115,\n",
       " 163,\n",
       " 106,\n",
       " 91,\n",
       " 112,\n",
       " 109,\n",
       " 136,\n",
       " 145,\n",
       " 112,\n",
       " 154,\n",
       " 160,\n",
       " 130,\n",
       " 121,\n",
       " 106,\n",
       " 136,\n",
       " 127,\n",
       " 136,\n",
       " 124,\n",
       " 115,\n",
       " 106,\n",
       " 145,\n",
       " 127,\n",
       " 130,\n",
       " 103,\n",
       " 154,\n",
       " 157,\n",
       " 136,\n",
       " 124,\n",
       " 136,\n",
       " 139,\n",
       " 115,\n",
       " 127,\n",
       " 106,\n",
       " 142,\n",
       " 106,\n",
       " 121,\n",
       " 154,\n",
       " 133,\n",
       " 115,\n",
       " 118,\n",
       " 127,\n",
       " 139,\n",
       " 130,\n",
       " 118,\n",
       " 136,\n",
       " 127,\n",
       " 169,\n",
       " 172,\n",
       " 163,\n",
       " 130,\n",
       " 130,\n",
       " 118,\n",
       " 127,\n",
       " 133,\n",
       " 133,\n",
       " 118,\n",
       " 127,\n",
       " 115,\n",
       " 142,\n",
       " 127,\n",
       " 130,\n",
       " 109,\n",
       " 133,\n",
       " 130,\n",
       " 151,\n",
       " 118,\n",
       " 136,\n",
       " 121,\n",
       " 103,\n",
       " 151,\n",
       " 115,\n",
       " 115,\n",
       " 160,\n",
       " 154,\n",
       " 139,\n",
       " 124,\n",
       " 136,\n",
       " 118,\n",
       " 157,\n",
       " 175,\n",
       " 157,\n",
       " 148,\n",
       " 190,\n",
       " 136,\n",
       " 118,\n",
       " 136,\n",
       " 145,\n",
       " 115,\n",
       " 127,\n",
       " 118,\n",
       " 88,\n",
       " 121,\n",
       " 136,\n",
       " 142,\n",
       " 124,\n",
       " 139,\n",
       " 130,\n",
       " 154,\n",
       " 145,\n",
       " 148,\n",
       " 121,\n",
       " 145,\n",
       " 112,\n",
       " 127,\n",
       " 130,\n",
       " 130,\n",
       " 115,\n",
       " 142,\n",
       " 112,\n",
       " 124,\n",
       " 118,\n",
       " 121,\n",
       " 130,\n",
       " 181,\n",
       " 136,\n",
       " 136,\n",
       " 145,\n",
       " 109,\n",
       " 160,\n",
       " 109,\n",
       " 97,\n",
       " 121,\n",
       " 154,\n",
       " 127,\n",
       " 103,\n",
       " 136,\n",
       " 121,\n",
       " 127,\n",
       " 106,\n",
       " 154,\n",
       " 103,\n",
       " 115,\n",
       " 136,\n",
       " 109,\n",
       " 124,\n",
       " 121,\n",
       " 130,\n",
       " 151,\n",
       " 169,\n",
       " 142,\n",
       " 124,\n",
       " 130,\n",
       " 61,\n",
       " 136,\n",
       " 130,\n",
       " 127,\n",
       " 103,\n",
       " 157,\n",
       " 169,\n",
       " 133,\n",
       " 121,\n",
       " 127,\n",
       " 121,\n",
       " 130,\n",
       " 130,\n",
       " 145,\n",
       " 139,\n",
       " 112,\n",
       " 124,\n",
       " 133,\n",
       " 154,\n",
       " 136,\n",
       " 133,\n",
       " 97,\n",
       " 127,\n",
       " 121,\n",
       " 145,\n",
       " 184,\n",
       " 148,\n",
       " 130,\n",
       " 160,\n",
       " 136,\n",
       " 166,\n",
       " 130,\n",
       " 181,\n",
       " 106,\n",
       " 118,\n",
       " 115,\n",
       " 127,\n",
       " 124,\n",
       " 124,\n",
       " 163,\n",
       " 121,\n",
       " 127,\n",
       " 118,\n",
       " 157,\n",
       " 133,\n",
       " 133,\n",
       " 109,\n",
       " 133,\n",
       " 124,\n",
       " 121,\n",
       " 121,\n",
       " 124,\n",
       " 160,\n",
       " 127,\n",
       " 145,\n",
       " 136,\n",
       " 172,\n",
       " 118,\n",
       " 136,\n",
       " 124,\n",
       " 142,\n",
       " 157,\n",
       " 136,\n",
       " 136,\n",
       " 109,\n",
       " 118,\n",
       " 124,\n",
       " 166,\n",
       " 121,\n",
       " 124,\n",
       " 142,\n",
       " 130,\n",
       " 142,\n",
       " 121,\n",
       " 115,\n",
       " 133,\n",
       " 130,\n",
       " 115,\n",
       " 127,\n",
       " 115,\n",
       " 130,\n",
       " 145,\n",
       " 142,\n",
       " 106,\n",
       " 112,\n",
       " 142,\n",
       " 160,\n",
       " 115,\n",
       " 142,\n",
       " 118,\n",
       " 112,\n",
       " 154,\n",
       " 172,\n",
       " 118,\n",
       " 118,\n",
       " 142,\n",
       " 154,\n",
       " 139,\n",
       " 130,\n",
       " 151,\n",
       " 118,\n",
       " 133,\n",
       " 112,\n",
       " 118,\n",
       " 91,\n",
       " 139,\n",
       " 166,\n",
       " 172,\n",
       " 172,\n",
       " 154,\n",
       " 142,\n",
       " 154,\n",
       " 172,\n",
       " 112,\n",
       " 109,\n",
       " 106,\n",
       " 136,\n",
       " 118,\n",
       " 148,\n",
       " 151,\n",
       " 127,\n",
       " 115,\n",
       " 103,\n",
       " 133,\n",
       " 97,\n",
       " 136,\n",
       " 148,\n",
       " 118,\n",
       " 109,\n",
       " 130,\n",
       " 151,\n",
       " 133,\n",
       " 136,\n",
       " 112,\n",
       " 139,\n",
       " 154,\n",
       " 118,\n",
       " 130,\n",
       " 124,\n",
       " 124,\n",
       " 118,\n",
       " 133,\n",
       " 148,\n",
       " 172,\n",
       " 124,\n",
       " 142,\n",
       " 136,\n",
       " 118,\n",
       " 148,\n",
       " 115,\n",
       " 109,\n",
       " 157,\n",
       " 103,\n",
       " 133,\n",
       " 121,\n",
       " 121,\n",
       " 139,\n",
       " 133,\n",
       " 184,\n",
       " 133,\n",
       " 133,\n",
       " 136,\n",
       " 97,\n",
       " 160,\n",
       " 118,\n",
       " 139,\n",
       " 130,\n",
       " 136,\n",
       " 97,\n",
       " 121,\n",
       " 127,\n",
       " 127,\n",
       " 76,\n",
       " 112,\n",
       " 70,\n",
       " 106,\n",
       " 124,\n",
       " 118,\n",
       " 127,\n",
       " 118,\n",
       " 133,\n",
       " 142,\n",
       " 115,\n",
       " 139,\n",
       " 136,\n",
       " 124,\n",
       " 136,\n",
       " 103,\n",
       " 97,\n",
       " 124,\n",
       " 136,\n",
       " 145,\n",
       " 115,\n",
       " 121,\n",
       " 121,\n",
       " 139,\n",
       " 145,\n",
       " 121,\n",
       " 139,\n",
       " 199,\n",
       " 118,\n",
       " 127,\n",
       " 124,\n",
       " 133,\n",
       " 115,\n",
       " 145,\n",
       " 127,\n",
       " 97,\n",
       " 136,\n",
       " 151,\n",
       " 133,\n",
       " 118,\n",
       " 124,\n",
       " 118,\n",
       " 136,\n",
       " 184,\n",
       " 106,\n",
       " 115,\n",
       " 178,\n",
       " 160,\n",
       " 109,\n",
       " 169,\n",
       " 112,\n",
       " 118,\n",
       " 124,\n",
       " 130,\n",
       " 151,\n",
       " 178,\n",
       " 142,\n",
       " 130,\n",
       " 139,\n",
       " 130,\n",
       " 127,\n",
       " 121,\n",
       " 118,\n",
       " 103,\n",
       " 130,\n",
       " 136,\n",
       " 130,\n",
       " 127,\n",
       " 106,\n",
       " 130,\n",
       " 118,\n",
       " 148,\n",
       " 112,\n",
       " 97,\n",
       " 157,\n",
       " 115,\n",
       " 106,\n",
       " 136,\n",
       " 112,\n",
       " 130,\n",
       " 139,\n",
       " 142,\n",
       " 70,\n",
       " 130,\n",
       " 148,\n",
       " 151,\n",
       " 133,\n",
       " 115,\n",
       " 148,\n",
       " 127,\n",
       " 139,\n",
       " 166,\n",
       " 121,\n",
       " 103,\n",
       " 112,\n",
       " 214,\n",
       " 127,\n",
       " 139,\n",
       " 121,\n",
       " 88,\n",
       " 151,\n",
       " 130,\n",
       " 121,\n",
       " 124,\n",
       " 130,\n",
       " 112,\n",
       " 127,\n",
       " 148,\n",
       " 145,\n",
       " 148,\n",
       " 133,\n",
       " 130,\n",
       " 136,\n",
       " 133,\n",
       " 97,\n",
       " 115,\n",
       " 133,\n",
       " 115,\n",
       " 148,\n",
       " 136,\n",
       " 133,\n",
       " 145,\n",
       " 127,\n",
       " 124,\n",
       " 124,\n",
       " 136,\n",
       " 103,\n",
       " 136,\n",
       " 115,\n",
       " 124,\n",
       " 121,\n",
       " 145,\n",
       " 136,\n",
       " 118,\n",
       " 124,\n",
       " 130,\n",
       " 130,\n",
       " 166,\n",
       " 121,\n",
       " 145,\n",
       " 127,\n",
       " 127,\n",
       " 151,\n",
       " 133,\n",
       " 133,\n",
       " 139,\n",
       " 124,\n",
       " 127,\n",
       " 124,\n",
       " 127,\n",
       " 175,\n",
       " 118,\n",
       " 130,\n",
       " 118,\n",
       " 127,\n",
       " 148,\n",
       " 121,\n",
       " 133,\n",
       " 115,\n",
       " 133,\n",
       " 130,\n",
       " 166,\n",
       " 121,\n",
       " 130,\n",
       " 115,\n",
       " 139,\n",
       " 130,\n",
       " 145,\n",
       " 160,\n",
       " 94,\n",
       " 118,\n",
       " 136,\n",
       " 118,\n",
       " 136,\n",
       " 106,\n",
       " 118,\n",
       " 160,\n",
       " 157,\n",
       " 145,\n",
       " 121,\n",
       " 124,\n",
       " 136,\n",
       " 124,\n",
       " 88,\n",
       " 124,\n",
       " 127,\n",
       " 136,\n",
       " 133,\n",
       " 85,\n",
       " 109,\n",
       " 154,\n",
       " 124,\n",
       " 136,\n",
       " 142,\n",
       " 130,\n",
       " 118,\n",
       " 115,\n",
       " 124,\n",
       " 133,\n",
       " 160,\n",
       " 103,\n",
       " 121,\n",
       " 130,\n",
       " 109,\n",
       " 130,\n",
       " 121,\n",
       " 148,\n",
       " 121,\n",
       " 157,\n",
       " 115,\n",
       " 136,\n",
       " 163,\n",
       " 169,\n",
       " 112,\n",
       " 160,\n",
       " 136,\n",
       " 112,\n",
       " 100,\n",
       " 121,\n",
       " 106,\n",
       " 154,\n",
       " 163,\n",
       " 169,\n",
       " 136,\n",
       " 121,\n",
       " 109,\n",
       " 115,\n",
       " 121,\n",
       " 103,\n",
       " 136,\n",
       " 148,\n",
       " 145,\n",
       " 139,\n",
       " 139,\n",
       " 133,\n",
       " 124,\n",
       " 127,\n",
       " 148,\n",
       " 121,\n",
       " 151,\n",
       " 145,\n",
       " 157,\n",
       " 106,\n",
       " 103,\n",
       " 121,\n",
       " 130,\n",
       " 109,\n",
       " 112,\n",
       " 136,\n",
       " 118,\n",
       " 151,\n",
       " 97,\n",
       " 136,\n",
       " 109,\n",
       " 127,\n",
       " 115,\n",
       " 133,\n",
       " 130,\n",
       " 121,\n",
       " 127,\n",
       " 124,\n",
       " 145,\n",
       " 136,\n",
       " 121,\n",
       " 148,\n",
       " 121,\n",
       " 142,\n",
       " 160,\n",
       " 124,\n",
       " 112,\n",
       " 94,\n",
       " 148,\n",
       " 130,\n",
       " 97,\n",
       " 121,\n",
       " 115,\n",
       " 142,\n",
       " 112,\n",
       " 130,\n",
       " 124,\n",
       " 127,\n",
       " 115,\n",
       " 118,\n",
       " 163,\n",
       " 100,\n",
       " 142,\n",
       " 133,\n",
       " 139,\n",
       " 130,\n",
       " 142,\n",
       " 142,\n",
       " 127,\n",
       " 115,\n",
       " 193,\n",
       " 112,\n",
       " 184,\n",
       " 106,\n",
       " 121,\n",
       " 145,\n",
       " 139,\n",
       " 109,\n",
       " 124,\n",
       " 130,\n",
       " 130,\n",
       " 133,\n",
       " 145,\n",
       " 154,\n",
       " 136,\n",
       " 133,\n",
       " 133,\n",
       " 112,\n",
       " 142,\n",
       " 112,\n",
       " 124,\n",
       " 121,\n",
       " 124,\n",
       " 118,\n",
       " 121,\n",
       " 145,\n",
       " 133,\n",
       " 130,\n",
       " 130,\n",
       " 139,\n",
       " 115,\n",
       " 166,\n",
       " 112,\n",
       " 130,\n",
       " 118,\n",
       " 112,\n",
       " 136,\n",
       " 133,\n",
       " 112,\n",
       " 103,\n",
       " 94,\n",
       " 127,\n",
       " 148,\n",
       " 154,\n",
       " 130,\n",
       " 157,\n",
       " 130,\n",
       " 130,\n",
       " 115,\n",
       " 142,\n",
       " 157,\n",
       " 142,\n",
       " 136,\n",
       " 136,\n",
       " 142,\n",
       " 127,\n",
       " 151,\n",
       " 142,\n",
       " 151,\n",
       " 133,\n",
       " 139,\n",
       " 130,\n",
       " 139,\n",
       " 118,\n",
       " 130,\n",
       " 130,\n",
       " 127,\n",
       " 127,\n",
       " 127,\n",
       " 157,\n",
       " 130,\n",
       " 130,\n",
       " 124,\n",
       " 139,\n",
       " 103,\n",
       " 151,\n",
       " 124,\n",
       " 112,\n",
       " 112,\n",
       " 127,\n",
       " 133,\n",
       " 106,\n",
       " 130,\n",
       " 118,\n",
       " 124,\n",
       " 130,\n",
       " 133,\n",
       " 103,\n",
       " 133,\n",
       " 154,\n",
       " 127,\n",
       " 145,\n",
       " 130,\n",
       " 115,\n",
       " 121,\n",
       " 127,\n",
       " 133,\n",
       " 109,\n",
       " 115,\n",
       " 106,\n",
       " 133,\n",
       " 163,\n",
       " 151,\n",
       " 118,\n",
       " 142,\n",
       " 139,\n",
       " 142,\n",
       " 106,\n",
       " 112,\n",
       " 88,\n",
       " 121,\n",
       " 124,\n",
       " 130,\n",
       " 118,\n",
       " 136,\n",
       " 136,\n",
       " 163,\n",
       " 142,\n",
       " 172,\n",
       " 133,\n",
       " 121,\n",
       " 142,\n",
       " 133,\n",
       " 154,\n",
       " 124,\n",
       " 106,\n",
       " 163,\n",
       " 130,\n",
       " 142,\n",
       " 103,\n",
       " 130,\n",
       " 127,\n",
       " 124,\n",
       " 136,\n",
       " 142,\n",
       " 151,\n",
       " 148,\n",
       " 124,\n",
       " 127,\n",
       " 118,\n",
       " 154,\n",
       " 166,\n",
       " 121,\n",
       " 124,\n",
       " 130,\n",
       " 85,\n",
       " 154,\n",
       " 139,\n",
       " 127,\n",
       " 139,\n",
       " 178,\n",
       " 121,\n",
       " 124,\n",
       " 139,\n",
       " 175,\n",
       " ...]"
      ]
     },
     "execution_count": 261,
     "metadata": {},
     "output_type": "execute_result"
    }
   ],
   "source": [
    "dim1\n",
    "#Dimiensions are different for different images"
   ]
  },
  {
   "cell_type": "code",
   "execution_count": 262,
   "metadata": {},
   "outputs": [
    {
     "data": {
      "text/plain": [
       "<seaborn.axisgrid.JointGrid at 0x7fe8b273ec50>"
      ]
     },
     "execution_count": 262,
     "metadata": {},
     "output_type": "execute_result"
    },
    {
     "data": {
      "image/png": "[encoded data removed]",
      "text/plain": [
       "<Figure size 432x432 with 3 Axes>"
      ]
     },
     "metadata": {
      "needs_background": "light"
     },
     "output_type": "display_data"
    }
   ],
   "source": [
    "sns.jointplot(dim1,dim2)"
   ]
  },
  {
   "cell_type": "code",
   "execution_count": 263,
   "metadata": {},
   "outputs": [
    {
     "data": {
      "text/plain": [
       "130.92538461538462"
      ]
     },
     "execution_count": 263,
     "metadata": {},
     "output_type": "execute_result"
    }
   ],
   "source": [
    "np.mean(dim1)"
   ]
  },
  {
   "cell_type": "code",
   "execution_count": 264,
   "metadata": {},
   "outputs": [
    {
     "data": {
      "text/plain": [
       "130.75"
      ]
     },
     "execution_count": 264,
     "metadata": {},
     "output_type": "execute_result"
    }
   ],
   "source": [
    "np.mean(dim2)"
   ]
  },
  {
   "cell_type": "code",
   "execution_count": 265,
   "metadata": {},
   "outputs": [],
   "source": [
    "image_shape=(130,130,3)"
   ]
  },
  {
   "cell_type": "code",
   "execution_count": 266,
   "metadata": {},
   "outputs": [
    {
     "data": {
      "text/plain": [
       "50700"
      ]
     },
     "execution_count": 266,
     "metadata": {},
     "output_type": "execute_result"
    }
   ],
   "source": [
    "130*130*3"
   ]
  },
  {
   "cell_type": "code",
   "execution_count": 267,
   "metadata": {},
   "outputs": [],
   "source": [
    "from tensorflow.keras.preprocessing.image import ImageDataGenerator"
   ]
  },
  {
   "cell_type": "code",
   "execution_count": null,
   "metadata": {},
   "outputs": [],
   "source": []
  },
  {
   "cell_type": "code",
   "execution_count": 268,
   "metadata": {},
   "outputs": [],
   "source": [
    "#Data Augmentation\n",
    "image_gen=ImageDataGenerator(rotation_range=20,\n",
    "                            width_shift_range=0.1,\n",
    "                            height_shift_range=0.1,\n",
    "                            rescale=1/255, \n",
    "                            shear_range=0.1,\n",
    "                            zoom_range=0.1,\n",
    "                            horizontal_flip=True,\n",
    "                            fill_mode='nearest')"
   ]
  },
  {
   "cell_type": "code",
   "execution_count": 269,
   "metadata": {},
   "outputs": [
    {
     "data": {
      "text/plain": [
       "<matplotlib.image.AxesImage at 0x7fe8b0450c90>"
      ]
     },
     "execution_count": 269,
     "metadata": {},
     "output_type": "execute_result"
    },
    {
     "data": {
      "image/png": "[encoded data removed]",
      "text/plain": [
       "<Figure size 432x288 with 1 Axes>"
      ]
     },
     "metadata": {
      "needs_background": "light"
     },
     "output_type": "display_data"
    }
   ],
   "source": [
    "plt.imshow(imread(para_cell))"
   ]
  },
  {
   "cell_type": "code",
   "execution_count": 270,
   "metadata": {},
   "outputs": [
    {
     "data": {
      "text/plain": [
       "<matplotlib.image.AxesImage at 0x7fe8b03b9990>"
      ]
     },
     "execution_count": 270,
     "metadata": {},
     "output_type": "execute_result"
    },
    {
     "data": {
      "image/png": "[encoded data removed]",
      "text/plain": [
       "<Figure size 432x288 with 1 Axes>"
      ]
     },
     "metadata": {
      "needs_background": "light"
     },
     "output_type": "display_data"
    }
   ],
   "source": [
    "plt.imshow(image_gen.random_transform(imread(para_cell)))"
   ]
  },
  {
   "cell_type": "code",
   "execution_count": 271,
   "metadata": {},
   "outputs": [
    {
     "name": "stdout",
     "output_type": "stream",
     "text": [
      "Found 24958 images belonging to 2 classes.\n"
     ]
    },
    {
     "data": {
      "text/plain": [
       "<keras_preprocessing.image.directory_iterator.DirectoryIterator at 0x7fe8b03f2610>"
      ]
     },
     "execution_count": 271,
     "metadata": {},
     "output_type": "execute_result"
    }
   ],
   "source": [
    "image_gen.flow_from_directory(train_path)"
   ]
  },
  {
   "cell_type": "code",
   "execution_count": 272,
   "metadata": {},
   "outputs": [
    {
     "name": "stdout",
     "output_type": "stream",
     "text": [
      "Found 2600 images belonging to 2 classes.\n"
     ]
    },
    {
     "data": {
      "text/plain": [
       "<keras_preprocessing.image.directory_iterator.DirectoryIterator at 0x7fe8b03e0c50>"
      ]
     },
     "execution_count": 272,
     "metadata": {},
     "output_type": "execute_result"
    }
   ],
   "source": [
    "image_gen.flow_from_directory(test_path)"
   ]
  },
  {
   "cell_type": "code",
   "execution_count": 273,
   "metadata": {},
   "outputs": [],
   "source": [
    "from tensorflow.keras.models import Sequential\n",
    "from tensorflow.keras.layers import Dense,Conv2D,MaxPooling2D,Dropout,Flatten,Activation"
   ]
  },
  {
   "cell_type": "code",
   "execution_count": 274,
   "metadata": {},
   "outputs": [],
   "source": [
    "model = Sequential()\n",
    "\n",
    "model.add(Conv2D(filters=32, kernel_size=(3,3),input_shape=image_shape, activation='relu',))\n",
    "model.add(MaxPooling2D(pool_size=(2, 2)))\n",
    "\n",
    "model.add(Conv2D(filters=64, kernel_size=(3,3),input_shape=image_shape, activation='relu',))\n",
    "model.add(MaxPooling2D(pool_size=(2, 2)))\n",
    "\n",
    "model.add(Conv2D(filters=64, kernel_size=(3,3),input_shape=image_shape, activation='relu',))\n",
    "model.add(MaxPooling2D(pool_size=(2, 2)))\n",
    "\n",
    "\n",
    "model.add(Flatten())\n",
    "\n",
    "\n",
    "model.add(Dense(128))\n",
    "model.add(Activation('relu'))\n",
    "\n",
    "# Dropouts help reduce overfitting by randomly turning neurons off during training.\n",
    "# Here we say randomly turn off 50% of neurons.\n",
    "model.add(Dropout(0.5))\n",
    "\n",
    "model.add(Dense(1))\n",
    "model.add(Activation('sigmoid'))\n",
    "\n",
    "model.compile(loss='binary_crossentropy',\n",
    "              optimizer='adam',\n",
    "              metrics=['accuracy'])"
   ]
  },
  {
   "cell_type": "code",
   "execution_count": 275,
   "metadata": {},
   "outputs": [
    {
     "name": "stdout",
     "output_type": "stream",
     "text": [
      "Model: \"sequential_5\"\n",
      "_________________________________________________________________\n",
      "Layer (type)                 Output Shape              Param #   \n",
      "=================================================================\n",
      "conv2d_13 (Conv2D)           (None, 128, 128, 32)      896       \n",
      "_________________________________________________________________\n",
      "max_pooling2d_12 (MaxPooling (None, 64, 64, 32)        0         \n",
      "_________________________________________________________________\n",
      "conv2d_14 (Conv2D)           (None, 62, 62, 64)        18496     \n",
      "_________________________________________________________________\n",
      "max_pooling2d_13 (MaxPooling (None, 31, 31, 64)        0         \n",
      "_________________________________________________________________\n",
      "conv2d_15 (Conv2D)           (None, 29, 29, 64)        36928     \n",
      "_________________________________________________________________\n",
      "max_pooling2d_14 (MaxPooling (None, 14, 14, 64)        0         \n",
      "_________________________________________________________________\n",
      "flatten_4 (Flatten)          (None, 12544)             0         \n",
      "_________________________________________________________________\n",
      "dense_7 (Dense)              (None, 128)               1605760   \n",
      "_________________________________________________________________\n",
      "activation_2 (Activation)    (None, 128)               0         \n",
      "_________________________________________________________________\n",
      "dropout_3 (Dropout)          (None, 128)               0         \n",
      "_________________________________________________________________\n",
      "dense_8 (Dense)              (None, 1)                 129       \n",
      "_________________________________________________________________\n",
      "activation_3 (Activation)    (None, 1)                 0         \n",
      "=================================================================\n",
      "Total params: 1,662,209\n",
      "Trainable params: 1,662,209\n",
      "Non-trainable params: 0\n",
      "_________________________________________________________________\n"
     ]
    }
   ],
   "source": [
    "model.summary()"
   ]
  },
  {
   "cell_type": "markdown",
   "metadata": {},
   "source": []
  },
  {
   "cell_type": "code",
   "execution_count": 276,
   "metadata": {},
   "outputs": [],
   "source": [
    "from tensorflow.keras.callbacks import EarlyStopping"
   ]
  },
  {
   "cell_type": "code",
   "execution_count": 277,
   "metadata": {},
   "outputs": [],
   "source": [
    "early_stop=EarlyStopping(monitor='val_loss',patience=2)"
   ]
  },
  {
   "cell_type": "code",
   "execution_count": 278,
   "metadata": {},
   "outputs": [],
   "source": [
    "batch_size=16"
   ]
  },
  {
   "cell_type": "code",
   "execution_count": 279,
   "metadata": {},
   "outputs": [
    {
     "name": "stdout",
     "output_type": "stream",
     "text": [
      "Found 24958 images belonging to 2 classes.\n"
     ]
    }
   ],
   "source": [
    "train_image_gen=image_gen.flow_from_directory(train_path,target_size=image_shape[:2],color_mode='rgb',\n",
    "                                              batch_size=batch_size,\n",
    "                                             class_mode='binary')"
   ]
  },
  {
   "cell_type": "code",
   "execution_count": 280,
   "metadata": {},
   "outputs": [
    {
     "name": "stdout",
     "output_type": "stream",
     "text": [
      "Found 2600 images belonging to 2 classes.\n"
     ]
    }
   ],
   "source": [
    "test_image_gen=image_gen.flow_from_directory(test_path,target_size=image_shape[:2],color_mode='rgb',\n",
    "                                              batch_size=batch_size,\n",
    "                                             class_mode='binary',shuffle=False)"
   ]
  },
  {
   "cell_type": "code",
   "execution_count": 281,
   "metadata": {},
   "outputs": [
    {
     "data": {
      "text/plain": [
       "{'parasitized': 0, 'uninfected': 1}"
      ]
     },
     "execution_count": 281,
     "metadata": {},
     "output_type": "execute_result"
    }
   ],
   "source": [
    "train_image_gen.class_indices"
   ]
  },
  {
   "cell_type": "code",
   "execution_count": 282,
   "metadata": {},
   "outputs": [
    {
     "name": "stdout",
     "output_type": "stream",
     "text": [
      "Epoch 1/20\n",
      "1560/1560 [==============================] - 3068s 2s/step - loss: 0.4202 - accuracy: 0.8150 - val_loss: 0.2100 - val_accuracy: 0.9381\n",
      "Epoch 2/20\n",
      "1560/1560 [==============================] - 1947s 1s/step - loss: 0.1945 - accuracy: 0.9409 - val_loss: 0.1716 - val_accuracy: 0.9435\n",
      "Epoch 3/20\n",
      "1560/1560 [==============================] - 1841s 1s/step - loss: 0.1672 - accuracy: 0.9484 - val_loss: 0.1623 - val_accuracy: 0.9488\n",
      "Epoch 4/20\n",
      "1560/1560 [==============================] - 1841s 1s/step - loss: 0.1606 - accuracy: 0.9490 - val_loss: 0.1792 - val_accuracy: 0.9369\n",
      "Epoch 5/20\n",
      "1560/1560 [==============================] - 1840s 1s/step - loss: 0.1579 - accuracy: 0.9512 - val_loss: 0.1540 - val_accuracy: 0.9496\n",
      "Epoch 6/20\n",
      "1560/1560 [==============================] - 1843s 1s/step - loss: 0.1555 - accuracy: 0.9508 - val_loss: 0.1500 - val_accuracy: 0.9519\n",
      "Epoch 7/20\n",
      "1560/1560 [==============================] - 1847s 1s/step - loss: 0.1552 - accuracy: 0.9500 - val_loss: 0.1535 - val_accuracy: 0.9469\n",
      "Epoch 8/20\n",
      "1560/1560 [==============================] - 1847s 1s/step - loss: 0.1494 - accuracy: 0.9518 - val_loss: 0.1498 - val_accuracy: 0.9527\n",
      "Epoch 9/20\n",
      "1560/1560 [==============================] - 1848s 1s/step - loss: 0.1522 - accuracy: 0.9517 - val_loss: 0.1659 - val_accuracy: 0.9462\n",
      "Epoch 10/20\n",
      "1560/1560 [==============================] - 1843s 1s/step - loss: 0.1466 - accuracy: 0.9524 - val_loss: 0.1484 - val_accuracy: 0.9485\n",
      "Epoch 11/20\n",
      "1560/1560 [==============================] - 1845s 1s/step - loss: 0.1464 - accuracy: 0.9520 - val_loss: 0.1648 - val_accuracy: 0.9454\n",
      "Epoch 12/20\n",
      "1560/1560 [==============================] - 1844s 1s/step - loss: 0.1492 - accuracy: 0.9517 - val_loss: 0.1620 - val_accuracy: 0.9496\n"
     ]
    }
   ],
   "source": [
    "results=model.fit_generator(train_image_gen,epochs=20,\n",
    "                           validation_data=test_image_gen,callbacks=[early_stop])"
   ]
  },
  {
   "cell_type": "code",
   "execution_count": 283,
   "metadata": {},
   "outputs": [],
   "source": [
    "from tensorflow.keras.models import load_model\n",
    "model.save('malaria_detector.h5')"
   ]
  },
  {
   "cell_type": "code",
   "execution_count": 284,
   "metadata": {},
   "outputs": [],
   "source": [
    "losses = pd.DataFrame(model.history.history)"
   ]
  },
  {
   "cell_type": "code",
   "execution_count": 285,
   "metadata": {},
   "outputs": [
    {
     "data": {
      "text/html": [
       "<div>\n",
       "<style scoped>\n",
       "    .dataframe tbody tr th:only-of-type {\n",
       "        vertical-align: middle;\n",
       "    }\n",
       "\n",
       "    .dataframe tbody tr th {\n",
       "        vertical-align: top;\n",
       "    }\n",
       "\n",
       "    .dataframe thead th {\n",
       "        text-align: right;\n",
       "    }\n",
       "</style>\n",
       "<table border=\"1\" class=\"dataframe\">\n",
       "  <thead>\n",
       "    <tr style=\"text-align: right;\">\n",
       "      <th></th>\n",
       "      <th>loss</th>\n",
       "      <th>accuracy</th>\n",
       "      <th>val_loss</th>\n",
       "      <th>val_accuracy</th>\n",
       "    </tr>\n",
       "  </thead>\n",
       "  <tbody>\n",
       "    <tr>\n",
       "      <th>0</th>\n",
       "      <td>0.420231</td>\n",
       "      <td>0.814969</td>\n",
       "      <td>0.209962</td>\n",
       "      <td>0.938077</td>\n",
       "    </tr>\n",
       "    <tr>\n",
       "      <th>1</th>\n",
       "      <td>0.194508</td>\n",
       "      <td>0.940941</td>\n",
       "      <td>0.171642</td>\n",
       "      <td>0.943462</td>\n",
       "    </tr>\n",
       "    <tr>\n",
       "      <th>2</th>\n",
       "      <td>0.167250</td>\n",
       "      <td>0.948353</td>\n",
       "      <td>0.162337</td>\n",
       "      <td>0.948846</td>\n",
       "    </tr>\n",
       "    <tr>\n",
       "      <th>3</th>\n",
       "      <td>0.160634</td>\n",
       "      <td>0.948954</td>\n",
       "      <td>0.179244</td>\n",
       "      <td>0.936923</td>\n",
       "    </tr>\n",
       "    <tr>\n",
       "      <th>4</th>\n",
       "      <td>0.157935</td>\n",
       "      <td>0.951158</td>\n",
       "      <td>0.153998</td>\n",
       "      <td>0.949615</td>\n",
       "    </tr>\n",
       "    <tr>\n",
       "      <th>5</th>\n",
       "      <td>0.155491</td>\n",
       "      <td>0.950797</td>\n",
       "      <td>0.149952</td>\n",
       "      <td>0.951923</td>\n",
       "    </tr>\n",
       "    <tr>\n",
       "      <th>6</th>\n",
       "      <td>0.155166</td>\n",
       "      <td>0.950036</td>\n",
       "      <td>0.153474</td>\n",
       "      <td>0.946923</td>\n",
       "    </tr>\n",
       "    <tr>\n",
       "      <th>7</th>\n",
       "      <td>0.149440</td>\n",
       "      <td>0.951759</td>\n",
       "      <td>0.149756</td>\n",
       "      <td>0.952692</td>\n",
       "    </tr>\n",
       "    <tr>\n",
       "      <th>8</th>\n",
       "      <td>0.152190</td>\n",
       "      <td>0.951719</td>\n",
       "      <td>0.165939</td>\n",
       "      <td>0.946154</td>\n",
       "    </tr>\n",
       "    <tr>\n",
       "      <th>9</th>\n",
       "      <td>0.146569</td>\n",
       "      <td>0.952440</td>\n",
       "      <td>0.148449</td>\n",
       "      <td>0.948462</td>\n",
       "    </tr>\n",
       "    <tr>\n",
       "      <th>10</th>\n",
       "      <td>0.146385</td>\n",
       "      <td>0.951999</td>\n",
       "      <td>0.164809</td>\n",
       "      <td>0.945385</td>\n",
       "    </tr>\n",
       "    <tr>\n",
       "      <th>11</th>\n",
       "      <td>0.149199</td>\n",
       "      <td>0.951719</td>\n",
       "      <td>0.161983</td>\n",
       "      <td>0.949615</td>\n",
       "    </tr>\n",
       "  </tbody>\n",
       "</table>\n",
       "</div>"
      ],
      "text/plain": [
       "        loss  accuracy  val_loss  val_accuracy\n",
       "0   0.420231  0.814969  0.209962      0.938077\n",
       "1   0.194508  0.940941  0.171642      0.943462\n",
       "2   0.167250  0.948353  0.162337      0.948846\n",
       "3   0.160634  0.948954  0.179244      0.936923\n",
       "4   0.157935  0.951158  0.153998      0.949615\n",
       "5   0.155491  0.950797  0.149952      0.951923\n",
       "6   0.155166  0.950036  0.153474      0.946923\n",
       "7   0.149440  0.951759  0.149756      0.952692\n",
       "8   0.152190  0.951719  0.165939      0.946154\n",
       "9   0.146569  0.952440  0.148449      0.948462\n",
       "10  0.146385  0.951999  0.164809      0.945385\n",
       "11  0.149199  0.951719  0.161983      0.949615"
      ]
     },
     "execution_count": 285,
     "metadata": {},
     "output_type": "execute_result"
    }
   ],
   "source": [
    "losses"
   ]
  },
  {
   "cell_type": "code",
   "execution_count": 286,
   "metadata": {},
   "outputs": [
    {
     "data": {
      "text/plain": [
       "<matplotlib.axes._subplots.AxesSubplot at 0x7fe8a8280050>"
      ]
     },
     "execution_count": 286,
     "metadata": {},
     "output_type": "execute_result"
    },
    {
     "data": {
      "image/png": "[encoded data removed]",
      "text/plain": [
       "<Figure size 432x288 with 1 Axes>"
      ]
     },
     "metadata": {
      "needs_background": "light"
     },
     "output_type": "display_data"
    }
   ],
   "source": [
    "losses[['loss','val_loss']].plot()"
   ]
  },
  {
   "cell_type": "code",
   "execution_count": 287,
   "metadata": {},
   "outputs": [
    {
     "data": {
      "text/plain": [
       "<matplotlib.axes._subplots.AxesSubplot at 0x7fe8a9f97cd0>"
      ]
     },
     "execution_count": 287,
     "metadata": {},
     "output_type": "execute_result"
    },
    {
     "data": {
      "image/png": "[encoded data removed]",
      "text/plain": [
       "<Figure size 432x288 with 1 Axes>"
      ]
     },
     "metadata": {
      "needs_background": "light"
     },
     "output_type": "display_data"
    }
   ],
   "source": [
    "losses[['accuracy','val_accuracy']].plot()"
   ]
  },
  {
   "cell_type": "code",
   "execution_count": 288,
   "metadata": {},
   "outputs": [
    {
     "data": {
      "text/plain": [
       "['loss', 'accuracy']"
      ]
     },
     "execution_count": 288,
     "metadata": {},
     "output_type": "execute_result"
    }
   ],
   "source": [
    "model.metrics_names"
   ]
  },
  {
   "cell_type": "code",
   "execution_count": 289,
   "metadata": {},
   "outputs": [
    {
     "data": {
      "text/plain": [
       "[0.16244711202677864, 0.95153844]"
      ]
     },
     "execution_count": 289,
     "metadata": {},
     "output_type": "execute_result"
    }
   ],
   "source": [
    "model.evaluate_generator(test_image_gen)"
   ]
  },
  {
   "cell_type": "code",
   "execution_count": 290,
   "metadata": {},
   "outputs": [],
   "source": [
    "from tensorflow.keras.preprocessing import image"
   ]
  },
  {
   "cell_type": "code",
   "execution_count": 291,
   "metadata": {},
   "outputs": [],
   "source": [
    "pred_probabilities = model.predict_generator(test_image_gen)"
   ]
  },
  {
   "cell_type": "code",
   "execution_count": 292,
   "metadata": {},
   "outputs": [
    {
     "data": {
      "text/plain": [
       "array([[5.2452087e-06],\n",
       "       [1.7881393e-07],\n",
       "       [5.9604645e-07],\n",
       "       ...,\n",
       "       [9.9343979e-01],\n",
       "       [9.9800360e-01],\n",
       "       [9.9616623e-01]], dtype=float32)"
      ]
     },
     "execution_count": 292,
     "metadata": {},
     "output_type": "execute_result"
    }
   ],
   "source": [
    "pred_probabilities"
   ]
  },
  {
   "cell_type": "code",
   "execution_count": 293,
   "metadata": {},
   "outputs": [
    {
     "data": {
      "text/plain": [
       "array([0, 0, 0, ..., 1, 1, 1], dtype=int32)"
      ]
     },
     "execution_count": 293,
     "metadata": {},
     "output_type": "execute_result"
    }
   ],
   "source": [
    "test_image_gen.classes"
   ]
  },
  {
   "cell_type": "code",
   "execution_count": 294,
   "metadata": {},
   "outputs": [],
   "source": [
    "predictions = pred_probabilities > 0.5"
   ]
  },
  {
   "cell_type": "code",
   "execution_count": 295,
   "metadata": {},
   "outputs": [
    {
     "data": {
      "text/plain": [
       "array([[False],\n",
       "       [False],\n",
       "       [False],\n",
       "       ...,\n",
       "       [ True],\n",
       "       [ True],\n",
       "       [ True]])"
      ]
     },
     "execution_count": 295,
     "metadata": {},
     "output_type": "execute_result"
    }
   ],
   "source": [
    "predictions"
   ]
  },
  {
   "cell_type": "code",
   "execution_count": 296,
   "metadata": {},
   "outputs": [],
   "source": [
    "from sklearn.metrics import classification_report,confusion_matrix"
   ]
  },
  {
   "cell_type": "code",
   "execution_count": 297,
   "metadata": {},
   "outputs": [
    {
     "name": "stdout",
     "output_type": "stream",
     "text": [
      "              precision    recall  f1-score   support\n",
      "\n",
      "           0       0.97      0.94      0.95      1300\n",
      "           1       0.94      0.97      0.95      1300\n",
      "\n",
      "    accuracy                           0.95      2600\n",
      "   macro avg       0.95      0.95      0.95      2600\n",
      "weighted avg       0.95      0.95      0.95      2600\n",
      "\n"
     ]
    }
   ],
   "source": [
    "print(classification_report(test_image_gen.classes,predictions))"
   ]
  },
  {
   "cell_type": "code",
   "execution_count": 298,
   "metadata": {},
   "outputs": [
    {
     "data": {
      "text/plain": [
       "array([[1217,   83],\n",
       "       [  42, 1258]])"
      ]
     },
     "execution_count": 298,
     "metadata": {},
     "output_type": "execute_result"
    }
   ],
   "source": [
    "confusion_matrix(test_image_gen.classes,predictions)"
   ]
  },
  {
   "cell_type": "code",
   "execution_count": 317,
   "metadata": {},
   "outputs": [
    {
     "data": {
      "text/plain": [
       "'/home/ubuntu/Documents/CNNPRO/cell_images/train/uninfected/C234ThinF_IMG_20151112_162909_cell_7.png'"
      ]
     },
     "execution_count": 317,
     "metadata": {},
     "output_type": "execute_result"
    }
   ],
   "source": [
    "#Predicting on random Image\n",
    "uninfected_cell"
   ]
  },
  {
   "cell_type": "code",
   "execution_count": 318,
   "metadata": {},
   "outputs": [],
   "source": [
    "my_image = image.load_img(uninfected_cell,target_size=image_shape)"
   ]
  },
  {
   "cell_type": "code",
   "execution_count": 319,
   "metadata": {},
   "outputs": [
    {
     "data": {
      "image/png": "[encoded data removed]",
      "text/plain": [
       "<PIL.Image.Image image mode=RGB size=130x130 at 0x7FE8A8850B90>"
      ]
     },
     "execution_count": 319,
     "metadata": {},
     "output_type": "execute_result"
    }
   ],
   "source": [
    "my_image"
   ]
  },
  {
   "cell_type": "code",
   "execution_count": 320,
   "metadata": {},
   "outputs": [],
   "source": [
    "my_image = image.img_to_array(my_image)"
   ]
  },
  {
   "cell_type": "code",
   "execution_count": 321,
   "metadata": {},
   "outputs": [
    {
     "data": {
      "text/plain": [
       "numpy.ndarray"
      ]
     },
     "execution_count": 321,
     "metadata": {},
     "output_type": "execute_result"
    }
   ],
   "source": [
    "type(my_image)"
   ]
  },
  {
   "cell_type": "code",
   "execution_count": 322,
   "metadata": {},
   "outputs": [
    {
     "data": {
      "text/plain": [
       "(130, 130, 3)"
      ]
     },
     "execution_count": 322,
     "metadata": {},
     "output_type": "execute_result"
    }
   ],
   "source": [
    "my_image.shape"
   ]
  },
  {
   "cell_type": "code",
   "execution_count": 323,
   "metadata": {},
   "outputs": [],
   "source": [
    "my_image = np.expand_dims(my_image, axis=0)"
   ]
  },
  {
   "cell_type": "code",
   "execution_count": 324,
   "metadata": {},
   "outputs": [
    {
     "data": {
      "text/plain": [
       "(1, 130, 130, 3)"
      ]
     },
     "execution_count": 324,
     "metadata": {},
     "output_type": "execute_result"
    }
   ],
   "source": [
    "my_image.shape"
   ]
  },
  {
   "cell_type": "code",
   "execution_count": 325,
   "metadata": {},
   "outputs": [
    {
     "data": {
      "text/plain": [
       "array([[1.]], dtype=float32)"
      ]
     },
     "execution_count": 325,
     "metadata": {},
     "output_type": "execute_result"
    }
   ],
   "source": [
    "model.predict(my_image)"
   ]
  },
  {
   "cell_type": "code",
   "execution_count": 326,
   "metadata": {},
   "outputs": [
    {
     "data": {
      "text/plain": [
       "{'parasitized': 0, 'uninfected': 1}"
      ]
     },
     "execution_count": 326,
     "metadata": {},
     "output_type": "execute_result"
    }
   ],
   "source": [
    "test_image_gen.class_indices"
   ]
  },
  {
   "cell_type": "code",
   "execution_count": null,
   "metadata": {},
   "outputs": [],
   "source": []
  }
 ],
 "metadata": {
  "kernelspec": {
   "display_name": "Python 3",
   "language": "python",
   "name": "python3"
  },
  "language_info": {
   "codemirror_mode": {
    "name": "ipython",
    "version": 3
   },
   "file_extension": ".py",
   "mimetype": "text/x-python",
   "name": "python",
   "nbconvert_exporter": "python",
   "pygments_lexer": "ipython3",
   "version": "3.8.3"
  }
 },
 "nbformat": 4,
 "nbformat_minor": 4
}
